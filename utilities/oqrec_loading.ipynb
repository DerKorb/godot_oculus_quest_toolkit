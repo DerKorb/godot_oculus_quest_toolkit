{
 "cells": [
  {
   "cell_type": "markdown",
   "metadata": {},
   "source": [
    "Examples for .oqrec loading and display\n",
    "=================================\n",
    "\n",
    "An .oqrec file is a json file containing 1d arrays for each key. Positions and orientations are flat Vec3 data and need to be sliced to be accessed."
   ]
  },
  {
   "cell_type": "code",
   "execution_count": null,
   "metadata": {},
   "outputs": [],
   "source": [
    "%matplotlib inline\n",
    "import matplotlib.pyplot as plt\n",
    "from mpl_toolkits.mplot3d import Axes3D\n",
    "import json"
   ]
  },
  {
   "cell_type": "code",
   "execution_count": null,
   "metadata": {},
   "outputs": [],
   "source": [
    "rec = json.load(open('data/test.oqrec')) # load the recording as a json"
   ]
  },
  {
   "cell_type": "code",
   "execution_count": null,
   "metadata": {},
   "outputs": [],
   "source": [
    "print(\"num_frames = %d; fps = %d; start_time = %s\" % (rec[\"num_frames\"], rec[\"target_fps\"], rec[\"start_time\"]))\n",
    "print(\"Keys in the recording are:\")\n",
    "for k in rec.keys(): print('\"'+k+'\"', end = ' ') # show the keys of all the arrays in the recording\n"
   ]
  },
  {
   "cell_type": "code",
   "execution_count": null,
   "metadata": {},
   "outputs": [],
   "source": [
    "# 1d plot of the data\n",
    "plt.plot(rec[\"head_position\"][0::3]) # plot only the x coordinate of the head position\n",
    "plt.plot(rec[\"head_position\"][1::3]) # plot only the y coordinate of the head position\n",
    "plt.plot(rec[\"head_position\"][2::3]) # plot only the z coordinate of the head position"
   ]
  },
  {
   "cell_type": "code",
   "execution_count": null,
   "metadata": {},
   "outputs": [],
   "source": [
    "# 3d plot of position data\n",
    "ax = plt.figure().gca(projection='3d')\n",
    "ax.plot(rec[\"head_position\"][0::3],rec[\"head_position\"][1::3],rec[\"head_position\"][2::3], zdir='y')\n",
    "ax.set_zlim3d(0,2)"
   ]
  },
  {
   "cell_type": "code",
   "execution_count": null,
   "metadata": {},
   "outputs": [],
   "source": [
    "# top down 2d plot of position data\n",
    "ax = plt.figure().gca()\n",
    "ax.grid()\n",
    "ax.set(xlabel='x', ylabel='z')\n",
    "ax.plot(rec[\"head_position\"][0::3],rec[\"head_position\"][2::3])\n",
    "ax.plot(rec[\"left_controller_position\"][0::3],rec[\"left_controller_position\"][2::3])\n"
   ]
  },
  {
   "cell_type": "code",
   "execution_count": null,
   "metadata": {},
   "outputs": [],
   "source": []
  }
 ],
 "metadata": {
  "kernelspec": {
   "display_name": "Python 3",
   "language": "python",
   "name": "python3"
  },
  "language_info": {
   "codemirror_mode": {
    "name": "ipython",
    "version": 3
   },
   "file_extension": ".py",
   "mimetype": "text/x-python",
   "name": "python",
   "nbconvert_exporter": "python",
   "pygments_lexer": "ipython3",
   "version": "3.7.4"
  }
 },
 "nbformat": 4,
 "nbformat_minor": 2
}
